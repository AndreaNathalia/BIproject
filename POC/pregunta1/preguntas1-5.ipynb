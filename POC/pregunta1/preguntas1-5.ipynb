{
 "cells": [
  {
   "cell_type": "markdown",
   "metadata": {},
   "source": [
    "# Pregunta 1"
   ]
  },
  {
   "cell_type": "code",
   "execution_count": 1,
   "metadata": {},
   "outputs": [],
   "source": [
    "import pandas as pd"
   ]
  },
  {
   "cell_type": "code",
   "execution_count": 2,
   "metadata": {},
   "outputs": [],
   "source": [
    "poverty = pd.read_excel(\"pregunta1/est20us.xls\", header=[2,3])\n",
    "covid = pd.read_csv(\"pregunta1/covid_us_county.csv\")"
   ]
  },
  {
   "cell_type": "code",
   "execution_count": 3,
   "metadata": {},
   "outputs": [
    {
     "data": {
      "text/html": [
       "<div>\n",
       "<style scoped>\n",
       "    .dataframe tbody tr th:only-of-type {\n",
       "        vertical-align: middle;\n",
       "    }\n",
       "\n",
       "    .dataframe tbody tr th {\n",
       "        vertical-align: top;\n",
       "    }\n",
       "\n",
       "    .dataframe thead tr th {\n",
       "        text-align: left;\n",
       "    }\n",
       "</style>\n",
       "<table border=\"1\" class=\"dataframe\">\n",
       "  <thead>\n",
       "    <tr>\n",
       "      <th></th>\n",
       "      <th colspan=\"3\" halign=\"left\">Geographic Information</th>\n",
       "      <th colspan=\"6\" halign=\"left\">All Ages</th>\n",
       "      <th>Age 0-17</th>\n",
       "      <th>...</th>\n",
       "      <th>Age 5-17 in Families</th>\n",
       "      <th colspan=\"3\" halign=\"left\">Median Household Income</th>\n",
       "      <th colspan=\"6\" halign=\"left\">Age 0-4</th>\n",
       "    </tr>\n",
       "    <tr>\n",
       "      <th></th>\n",
       "      <th>State FIPS Code</th>\n",
       "      <th>Postal Code</th>\n",
       "      <th>Name</th>\n",
       "      <th>Poverty Estimate, All Ages</th>\n",
       "      <th>90% CI Lower Bound</th>\n",
       "      <th>90% CI Upper Bound</th>\n",
       "      <th>Poverty Percent, All Ages</th>\n",
       "      <th>90% CI Lower Bound.1</th>\n",
       "      <th>90% CI Upper Bound.1</th>\n",
       "      <th>Poverty Estimate, Age 0-17</th>\n",
       "      <th>...</th>\n",
       "      <th>90% CI Upper Bound.1</th>\n",
       "      <th>Median Household Income</th>\n",
       "      <th>90% CI Lower Bound</th>\n",
       "      <th>90% CI Upper Bound</th>\n",
       "      <th>Poverty Estimate, Age 0-4</th>\n",
       "      <th>90% CI Lower Bound</th>\n",
       "      <th>90% CI Upper Bound</th>\n",
       "      <th>Poverty Percent, Age 0-4</th>\n",
       "      <th>90% CI Lower Bound.1</th>\n",
       "      <th>90% CI Upper Bound.1</th>\n",
       "    </tr>\n",
       "  </thead>\n",
       "  <tbody>\n",
       "    <tr>\n",
       "      <th>0</th>\n",
       "      <td>0</td>\n",
       "      <td>US</td>\n",
       "      <td>United States</td>\n",
       "      <td>38371394</td>\n",
       "      <td>38309115</td>\n",
       "      <td>38433673</td>\n",
       "      <td>11.9</td>\n",
       "      <td>11.9</td>\n",
       "      <td>11.9</td>\n",
       "      <td>11204423</td>\n",
       "      <td>...</td>\n",
       "      <td>14.9</td>\n",
       "      <td>67340</td>\n",
       "      <td>67251</td>\n",
       "      <td>67429</td>\n",
       "      <td>3146325</td>\n",
       "      <td>3133736</td>\n",
       "      <td>3158914</td>\n",
       "      <td>16.8</td>\n",
       "      <td>16.7</td>\n",
       "      <td>16.9</td>\n",
       "    </tr>\n",
       "  </tbody>\n",
       "</table>\n",
       "<p>1 rows × 30 columns</p>\n",
       "</div>"
      ],
      "text/plain": [
       "  Geographic Information                             \\\n",
       "         State FIPS Code Postal Code           Name   \n",
       "0                      0          US  United States   \n",
       "\n",
       "                    All Ages                                        \\\n",
       "  Poverty Estimate, All Ages 90% CI Lower Bound 90% CI Upper Bound   \n",
       "0                   38371394           38309115           38433673   \n",
       "\n",
       "                                                                       \\\n",
       "  Poverty Percent, All Ages 90% CI Lower Bound.1 90% CI Upper Bound.1   \n",
       "0                      11.9                 11.9                 11.9   \n",
       "\n",
       "                    Age 0-17  ... Age 5-17 in Families  \\\n",
       "  Poverty Estimate, Age 0-17  ... 90% CI Upper Bound.1   \n",
       "0                   11204423  ...                 14.9   \n",
       "\n",
       "  Median Household Income                                        \\\n",
       "  Median Household Income 90% CI Lower Bound 90% CI Upper Bound   \n",
       "0                   67340              67251              67429   \n",
       "\n",
       "                    Age 0-4                                        \\\n",
       "  Poverty Estimate, Age 0-4 90% CI Lower Bound 90% CI Upper Bound   \n",
       "0                   3146325            3133736            3158914   \n",
       "\n",
       "                                                                      \n",
       "  Poverty Percent, Age 0-4 90% CI Lower Bound.1 90% CI Upper Bound.1  \n",
       "0                     16.8                 16.7                 16.9  \n",
       "\n",
       "[1 rows x 30 columns]"
      ]
     },
     "execution_count": 3,
     "metadata": {},
     "output_type": "execute_result"
    }
   ],
   "source": [
    "poverty.head(1)"
   ]
  },
  {
   "cell_type": "code",
   "execution_count": 4,
   "metadata": {},
   "outputs": [
    {
     "data": {
      "text/html": [
       "<div>\n",
       "<style scoped>\n",
       "    .dataframe tbody tr th:only-of-type {\n",
       "        vertical-align: middle;\n",
       "    }\n",
       "\n",
       "    .dataframe tbody tr th {\n",
       "        vertical-align: top;\n",
       "    }\n",
       "\n",
       "    .dataframe thead th {\n",
       "        text-align: right;\n",
       "    }\n",
       "</style>\n",
       "<table border=\"1\" class=\"dataframe\">\n",
       "  <thead>\n",
       "    <tr style=\"text-align: right;\">\n",
       "      <th></th>\n",
       "      <th>fips</th>\n",
       "      <th>county</th>\n",
       "      <th>state</th>\n",
       "      <th>lat</th>\n",
       "      <th>long</th>\n",
       "      <th>date</th>\n",
       "      <th>cases</th>\n",
       "      <th>state_code</th>\n",
       "      <th>deaths</th>\n",
       "    </tr>\n",
       "  </thead>\n",
       "  <tbody>\n",
       "    <tr>\n",
       "      <th>0</th>\n",
       "      <td>1001.0</td>\n",
       "      <td>Autauga</td>\n",
       "      <td>Alabama</td>\n",
       "      <td>32.539527</td>\n",
       "      <td>-86.644082</td>\n",
       "      <td>2020-01-22</td>\n",
       "      <td>0</td>\n",
       "      <td>AL</td>\n",
       "      <td>0</td>\n",
       "    </tr>\n",
       "  </tbody>\n",
       "</table>\n",
       "</div>"
      ],
      "text/plain": [
       "     fips   county    state        lat       long        date  cases  \\\n",
       "0  1001.0  Autauga  Alabama  32.539527 -86.644082  2020-01-22      0   \n",
       "\n",
       "  state_code  deaths  \n",
       "0         AL       0  "
      ]
     },
     "execution_count": 4,
     "metadata": {},
     "output_type": "execute_result"
    }
   ],
   "source": [
    "covid.head(1)"
   ]
  },
  {
   "cell_type": "code",
   "execution_count": 5,
   "metadata": {},
   "outputs": [],
   "source": [
    "poverty = poverty.drop(labels=[\"Age 0-17\", \"Age 5-17 in Families\", \"Age 0-4\"], axis=1, level=0)\n",
    "poverty = poverty.droplevel(level=0, axis=1)\n",
    "poverty = poverty.drop(labels=([\"State FIPS Code\", \"Postal Code\", \"90% CI Lower Bound\", \"90% CI Upper Bound\", \n",
    "                      \"90% CI Lower Bound.1\", \"90% CI Upper Bound.1\", \"90% CI Lower Bound\", \"90% CI Upper Bound\"]), axis=1)\n",
    "povertyGeneral = poverty.loc[[0]]\n",
    "poverty = poverty.drop(labels=([0]), axis=0)"
   ]
  },
  {
   "cell_type": "code",
   "execution_count": 6,
   "metadata": {},
   "outputs": [],
   "source": [
    "covid = covid[covid.date.str.contains(\"2020\")]\n",
    "covid = covid.drop(labels=[\"fips\", \"county\", \"state_code\", \"date\"], axis=1)"
   ]
  },
  {
   "cell_type": "code",
   "execution_count": 7,
   "metadata": {},
   "outputs": [],
   "source": [
    "cases = covid.groupby([\"state\"])[\"cases\"].sum().tolist()\n",
    "deaths = covid.groupby([\"state\"])[\"deaths\"].sum().tolist()"
   ]
  },
  {
   "cell_type": "code",
   "execution_count": 8,
   "metadata": {},
   "outputs": [],
   "source": [
    "covid = covid.groupby([\"state\"]).first().reset_index()\n",
    "\n",
    "covid[\"cases\"] = cases\n",
    "covid[\"deaths\"] = deaths"
   ]
  },
  {
   "cell_type": "code",
   "execution_count": 9,
   "metadata": {},
   "outputs": [],
   "source": [
    "listSts = covid[\"state\"].tolist()\n",
    "Names = poverty[\"Name\"].tolist()\n",
    "labels = []\n",
    "for i in range(len(listSts)):\n",
    "    if listSts[i] not in Names:\n",
    "        labels.append(str(listSts[i]))\n",
    "newCovid = covid[~covid[\"state\"].isin(labels)] "
   ]
  },
  {
   "cell_type": "code",
   "execution_count": 10,
   "metadata": {},
   "outputs": [
    {
     "data": {
      "text/html": [
       "<div>\n",
       "<style scoped>\n",
       "    .dataframe tbody tr th:only-of-type {\n",
       "        vertical-align: middle;\n",
       "    }\n",
       "\n",
       "    .dataframe tbody tr th {\n",
       "        vertical-align: top;\n",
       "    }\n",
       "\n",
       "    .dataframe thead th {\n",
       "        text-align: right;\n",
       "    }\n",
       "</style>\n",
       "<table border=\"1\" class=\"dataframe\">\n",
       "  <thead>\n",
       "    <tr style=\"text-align: right;\">\n",
       "      <th></th>\n",
       "      <th>state</th>\n",
       "      <th>lat</th>\n",
       "      <th>long</th>\n",
       "      <th>cases</th>\n",
       "      <th>deaths</th>\n",
       "      <th>Poverty Estimate, All Ages</th>\n",
       "      <th>Poverty Percent, All Ages</th>\n",
       "      <th>Median Household Income</th>\n",
       "    </tr>\n",
       "  </thead>\n",
       "  <tbody>\n",
       "    <tr>\n",
       "      <th>0</th>\n",
       "      <td>Alabama</td>\n",
       "      <td>32.539527</td>\n",
       "      <td>-86.644082</td>\n",
       "      <td>32296555</td>\n",
       "      <td>526355</td>\n",
       "      <td>714568</td>\n",
       "      <td>14.9</td>\n",
       "      <td>53958</td>\n",
       "    </tr>\n",
       "    <tr>\n",
       "      <th>1</th>\n",
       "      <td>Alaska</td>\n",
       "      <td>55.322224</td>\n",
       "      <td>-161.972202</td>\n",
       "      <td>2875733</td>\n",
       "      <td>14154</td>\n",
       "      <td>68714</td>\n",
       "      <td>9.6</td>\n",
       "      <td>79961</td>\n",
       "    </tr>\n",
       "  </tbody>\n",
       "</table>\n",
       "</div>"
      ],
      "text/plain": [
       "     state        lat        long     cases  deaths  \\\n",
       "0  Alabama  32.539527  -86.644082  32296555  526355   \n",
       "1   Alaska  55.322224 -161.972202   2875733   14154   \n",
       "\n",
       "   Poverty Estimate, All Ages  Poverty Percent, All Ages  \\\n",
       "0                      714568                       14.9   \n",
       "1                       68714                        9.6   \n",
       "\n",
       "   Median Household Income  \n",
       "0                    53958  \n",
       "1                    79961  "
      ]
     },
     "execution_count": 10,
     "metadata": {},
     "output_type": "execute_result"
    }
   ],
   "source": [
    "p1 = pd.merge(newCovid, poverty, how='inner', left_on = 'state', right_on = 'Name')\n",
    "p1 = p1.drop(labels=[\"Name\"], axis=1)\n",
    "p1.head(2)"
   ]
  },
  {
   "cell_type": "code",
   "execution_count": 11,
   "metadata": {},
   "outputs": [],
   "source": [
    "p1.to_csv(\"Pregunta 1.csv\", sep=',')"
   ]
  },
  {
   "cell_type": "code",
   "execution_count": 19,
   "metadata": {},
   "outputs": [
    {
     "name": "stdout",
     "output_type": "stream",
     "text": [
      "<class 'pandas.core.frame.DataFrame'>\n",
      "Int64Index: 51 entries, 0 to 57\n",
      "Data columns (total 5 columns):\n",
      " #   Column  Non-Null Count  Dtype  \n",
      "---  ------  --------------  -----  \n",
      " 0   state   51 non-null     object \n",
      " 1   lat     51 non-null     float64\n",
      " 2   long    51 non-null     float64\n",
      " 3   cases   51 non-null     int64  \n",
      " 4   deaths  51 non-null     int64  \n",
      "dtypes: float64(2), int64(2), object(1)\n",
      "memory usage: 2.4+ KB\n",
      "None\n",
      "<class 'pandas.core.frame.DataFrame'>\n",
      "Int64Index: 51 entries, 1 to 51\n",
      "Data columns (total 4 columns):\n",
      " #   Column                      Non-Null Count  Dtype  \n",
      "---  ------                      --------------  -----  \n",
      " 0   Name                        51 non-null     object \n",
      " 1   Poverty Estimate, All Ages  51 non-null     int64  \n",
      " 2   Poverty Percent, All Ages   51 non-null     float64\n",
      " 3   Median Household Income     51 non-null     int64  \n",
      "dtypes: float64(1), int64(2), object(1)\n",
      "memory usage: 2.0+ KB\n",
      "None\n"
     ]
    }
   ],
   "source": [
    "print(newCovid.info())\n",
    "print(poverty.info())"
   ]
  }
 ],
 "metadata": {
  "interpreter": {
   "hash": "34f0680f93e83a4a101ea3928db54ef43df704f0ed6210e5ae2b09f0ef086431"
  },
  "kernelspec": {
   "display_name": "Python 3.9.7 ('ml')",
   "language": "python",
   "name": "python3"
  },
  "language_info": {
   "codemirror_mode": {
    "name": "ipython",
    "version": 3
   },
   "file_extension": ".py",
   "mimetype": "text/x-python",
   "name": "python",
   "nbconvert_exporter": "python",
   "pygments_lexer": "ipython3",
   "version": "3.9.7"
  },
  "orig_nbformat": 4
 },
 "nbformat": 4,
 "nbformat_minor": 2
}
