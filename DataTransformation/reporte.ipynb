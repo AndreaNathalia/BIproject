{
 "cells": [
  {
   "cell_type": "code",
   "execution_count": 1,
   "metadata": {},
   "outputs": [],
   "source": [
    "import pandas as pd"
   ]
  },
  {
   "cell_type": "code",
   "execution_count": 2,
   "metadata": {},
   "outputs": [],
   "source": [
    "covid = pd.read_csv(\"covid/covid.csv\")\n",
    "gdp = pd.read_csv(\"GDP/gdp.csv\")\n",
    "hosps = pd.read_csv(\"hospitals/hospitals.csv\")\n",
    "lckdwn = pd.read_csv(\"lockdown/lockcdown.csv\")\n",
    "mask = pd.read_csv(\"maskUse/maskUse.csv\")\n",
    "poverty = pd.read_csv(\"povertyIncome/povertyIncome.csv\")\n",
    "unemp = pd.read_csv(\"unemployment/unemployment.csv\")\n",
    "vaccines = pd.read_csv(\"vaccination/vaccination.csv\")"
   ]
  },
  {
   "cell_type": "code",
   "execution_count": 3,
   "metadata": {},
   "outputs": [],
   "source": [
    "reporte = pd.DataFrame()"
   ]
  },
  {
   "cell_type": "code",
   "execution_count": 4,
   "metadata": {},
   "outputs": [],
   "source": [
    "reporte[\"IDCovid\"] = covid[\"Unnamed: 0\"] \n",
    "reporte[\"IDGdp\"] = gdp[\"Unnamed: 0\"] \n",
    "reporte[\"IDHospitals\"] = hosps[\"Unnamed: 0\"] \n",
    "reporte[\"IDLockdown\"] = lckdwn[\"Unnamed: 0\"] \n",
    "reporte[\"IDMaskUse\"] = mask[\"Unnamed: 0\"] \n",
    "reporte[\"IDPovertyIncome\"] = poverty[\"Unnamed: 0\"] \n",
    "reporte[\"IDUnemployment\"] = unemp[\"Unnamed: 0\"] \n",
    "reporte[\"IDVaccionation\"] = vaccines[\"Unnamed: 0\"] \n"
   ]
  },
  {
   "cell_type": "code",
   "execution_count": 6,
   "metadata": {},
   "outputs": [],
   "source": [
    "reporte.to_csv(\"reporte.csv\", sep=',')"
   ]
  }
 ],
 "metadata": {
  "interpreter": {
   "hash": "34f0680f93e83a4a101ea3928db54ef43df704f0ed6210e5ae2b09f0ef086431"
  },
  "kernelspec": {
   "display_name": "Python 3.9.7 ('ml')",
   "language": "python",
   "name": "python3"
  },
  "language_info": {
   "codemirror_mode": {
    "name": "ipython",
    "version": 3
   },
   "file_extension": ".py",
   "mimetype": "text/x-python",
   "name": "python",
   "nbconvert_exporter": "python",
   "pygments_lexer": "ipython3",
   "version": "3.9.7"
  },
  "orig_nbformat": 4
 },
 "nbformat": 4,
 "nbformat_minor": 2
}
