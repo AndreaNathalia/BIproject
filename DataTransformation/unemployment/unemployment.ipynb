{
 "cells": [
  {
   "cell_type": "markdown",
   "metadata": {},
   "source": [
    "## Data Transformation: Table Unemployment"
   ]
  },
  {
   "cell_type": "markdown",
   "metadata": {},
   "source": [
    "### Datasets used:\n",
    "- US unemployment data"
   ]
  },
  {
   "cell_type": "code",
   "execution_count": 22,
   "metadata": {},
   "outputs": [],
   "source": [
    "import pandas as pd"
   ]
  },
  {
   "cell_type": "markdown",
   "metadata": {},
   "source": [
    "Load data to notebook"
   ]
  },
  {
   "cell_type": "code",
   "execution_count": 23,
   "metadata": {},
   "outputs": [],
   "source": [
    "#Load data with pandas\n",
    "unemployment = pd.read_csv(\"unemployment_rate_data.csv\", encoding='cp1252')"
   ]
  },
  {
   "cell_type": "markdown",
   "metadata": {},
   "source": [
    "Visualize data"
   ]
  },
  {
   "cell_type": "code",
   "execution_count": 24,
   "metadata": {},
   "outputs": [
    {
     "data": {
      "text/html": [
       "<div>\n",
       "<style scoped>\n",
       "    .dataframe tbody tr th:only-of-type {\n",
       "        vertical-align: middle;\n",
       "    }\n",
       "\n",
       "    .dataframe tbody tr th {\n",
       "        vertical-align: top;\n",
       "    }\n",
       "\n",
       "    .dataframe thead th {\n",
       "        text-align: right;\n",
       "    }\n",
       "</style>\n",
       "<table border=\"1\" class=\"dataframe\">\n",
       "  <thead>\n",
       "    <tr style=\"text-align: right;\">\n",
       "      <th></th>\n",
       "      <th>date</th>\n",
       "      <th>unrate</th>\n",
       "      <th>unrate_men</th>\n",
       "      <th>unrate_women</th>\n",
       "      <th>unrate_16_to_17</th>\n",
       "      <th>unrate_18_to_19</th>\n",
       "      <th>unrate_20_to_24</th>\n",
       "      <th>unrate_25_to_34</th>\n",
       "      <th>unrate_35_to_44</th>\n",
       "      <th>unrate_45_to_54</th>\n",
       "      <th>unrate_55_over</th>\n",
       "    </tr>\n",
       "  </thead>\n",
       "  <tbody>\n",
       "    <tr>\n",
       "      <th>0</th>\n",
       "      <td>1/1/1948</td>\n",
       "      <td>4.0</td>\n",
       "      <td>4.2</td>\n",
       "      <td>3.5</td>\n",
       "      <td>10.8</td>\n",
       "      <td>9.6</td>\n",
       "      <td>6.6</td>\n",
       "      <td>3.6</td>\n",
       "      <td>2.6</td>\n",
       "      <td>2.7</td>\n",
       "      <td>3.6</td>\n",
       "    </tr>\n",
       "    <tr>\n",
       "      <th>1</th>\n",
       "      <td>2/1/1948</td>\n",
       "      <td>4.7</td>\n",
       "      <td>4.7</td>\n",
       "      <td>4.8</td>\n",
       "      <td>15.0</td>\n",
       "      <td>9.5</td>\n",
       "      <td>8.0</td>\n",
       "      <td>4.0</td>\n",
       "      <td>3.2</td>\n",
       "      <td>3.4</td>\n",
       "      <td>4.0</td>\n",
       "    </tr>\n",
       "  </tbody>\n",
       "</table>\n",
       "</div>"
      ],
      "text/plain": [
       "       date  unrate  unrate_men  unrate_women  unrate_16_to_17  \\\n",
       "0  1/1/1948     4.0         4.2           3.5             10.8   \n",
       "1  2/1/1948     4.7         4.7           4.8             15.0   \n",
       "\n",
       "   unrate_18_to_19  unrate_20_to_24  unrate_25_to_34  unrate_35_to_44  \\\n",
       "0              9.6              6.6              3.6              2.6   \n",
       "1              9.5              8.0              4.0              3.2   \n",
       "\n",
       "   unrate_45_to_54  unrate_55_over  \n",
       "0              2.7             3.6  \n",
       "1              3.4             4.0  "
      ]
     },
     "execution_count": 24,
     "metadata": {},
     "output_type": "execute_result"
    }
   ],
   "source": [
    "unemployment.head(2)"
   ]
  },
  {
   "cell_type": "markdown",
   "metadata": {},
   "source": [
    "Cleaning data"
   ]
  },
  {
   "cell_type": "code",
   "execution_count": 25,
   "metadata": {},
   "outputs": [
    {
     "name": "stdout",
     "output_type": "stream",
     "text": [
      "Shape:\n",
      " (887, 11) \n",
      "\n",
      "Info:\n",
      "<class 'pandas.core.frame.DataFrame'>\n",
      "RangeIndex: 887 entries, 0 to 886\n",
      "Data columns (total 11 columns):\n",
      " #   Column           Non-Null Count  Dtype  \n",
      "---  ------           --------------  -----  \n",
      " 0   date             887 non-null    object \n",
      " 1   unrate           887 non-null    float64\n",
      " 2   unrate_men       887 non-null    float64\n",
      " 3   unrate_women     887 non-null    float64\n",
      " 4   unrate_16_to_17  887 non-null    float64\n",
      " 5   unrate_18_to_19  887 non-null    float64\n",
      " 6   unrate_20_to_24  887 non-null    float64\n",
      " 7   unrate_25_to_34  887 non-null    float64\n",
      " 8   unrate_35_to_44  887 non-null    float64\n",
      " 9   unrate_45_to_54  887 non-null    float64\n",
      " 10  unrate_55_over   887 non-null    float64\n",
      "dtypes: float64(10), object(1)\n",
      "memory usage: 76.4+ KB\n",
      "None\n"
     ]
    }
   ],
   "source": [
    "#Check missing data\n",
    "print(\"Shape:\\n\", unemployment.shape, \"\\n\\nInfo:\")\n",
    "print(unemployment.info()) # there are no null values in complete df"
   ]
  },
  {
   "cell_type": "code",
   "execution_count": 26,
   "metadata": {},
   "outputs": [
    {
     "name": "stderr",
     "output_type": "stream",
     "text": [
      "/var/folders/8h/nd9bcmz12yndbs6hsp0s9w8r0000gn/T/ipykernel_2241/3215444533.py:16: FutureWarning: Indexing with multiple keys (implicitly converted to a tuple of keys) will be deprecated, use a list instead.\n",
      "  unemployment2 = unemployment.groupby([\"year\"])[\"unrate\", \"unrateMen\", \"unrateWomen\"].sum()\n"
     ]
    },
    {
     "data": {
      "text/html": [
       "<div>\n",
       "<style scoped>\n",
       "    .dataframe tbody tr th:only-of-type {\n",
       "        vertical-align: middle;\n",
       "    }\n",
       "\n",
       "    .dataframe tbody tr th {\n",
       "        vertical-align: top;\n",
       "    }\n",
       "\n",
       "    .dataframe thead th {\n",
       "        text-align: right;\n",
       "    }\n",
       "</style>\n",
       "<table border=\"1\" class=\"dataframe\">\n",
       "  <thead>\n",
       "    <tr style=\"text-align: right;\">\n",
       "      <th></th>\n",
       "      <th>year</th>\n",
       "      <th>unrate</th>\n",
       "      <th>unrateMen</th>\n",
       "      <th>unrateWomen</th>\n",
       "    </tr>\n",
       "  </thead>\n",
       "  <tbody>\n",
       "    <tr>\n",
       "      <th>0</th>\n",
       "      <td>2018</td>\n",
       "      <td>46.8</td>\n",
       "      <td>47.4</td>\n",
       "      <td>46.0</td>\n",
       "    </tr>\n",
       "    <tr>\n",
       "      <th>1</th>\n",
       "      <td>2019</td>\n",
       "      <td>44.0</td>\n",
       "      <td>44.7</td>\n",
       "      <td>43.4</td>\n",
       "    </tr>\n",
       "    <tr>\n",
       "      <th>2</th>\n",
       "      <td>2020</td>\n",
       "      <td>97.1</td>\n",
       "      <td>93.7</td>\n",
       "      <td>100.6</td>\n",
       "    </tr>\n",
       "    <tr>\n",
       "      <th>3</th>\n",
       "      <td>2021</td>\n",
       "      <td>60.7</td>\n",
       "      <td>61.7</td>\n",
       "      <td>59.2</td>\n",
       "    </tr>\n",
       "  </tbody>\n",
       "</table>\n",
       "</div>"
      ],
      "text/plain": [
       "   year  unrate  unrateMen  unrateWomen\n",
       "0  2018    46.8       47.4         46.0\n",
       "1  2019    44.0       44.7         43.4\n",
       "2  2020    97.1       93.7        100.6\n",
       "3  2021    60.7       61.7         59.2"
      ]
     },
     "execution_count": 26,
     "metadata": {},
     "output_type": "execute_result"
    }
   ],
   "source": [
    "#Cleaning Unemployment dataFrame\n",
    "\n",
    "#Drop columns\n",
    "unemployment = unemployment.drop(labels=([\"unrate_16_to_17\", \"unrate_18_to_19\",\t\"unrate_20_to_24\",\t\"unrate_25_to_34\",\t\"unrate_35_to_44\",\t\"unrate_45_to_54\",\t\"unrate_55_over\"]), axis=1)\n",
    "\n",
    "#Rename columns\n",
    "unemployment.columns = ['date', 'unrate', \"unrateMen\", \"unrateWomen\"]\n",
    "\n",
    "#Keeping data for 2018 - 2021\n",
    "unemployment['year'] = pd.DatetimeIndex(unemployment['date']).year # get just the year\n",
    "# print(unemployment['year'].unique())\n",
    "\n",
    "values = [2018, 2019, 2020, 2021]\n",
    "unemployment = unemployment[unemployment.year.isin(values) == True]\n",
    "\n",
    "unemployment2 = unemployment.groupby([\"year\"])[\"unrate\", \"unrateMen\", \"unrateWomen\"].sum()\n",
    "unemployment2 = unemployment2.reset_index(level=[0])\n",
    "unemployment2"
   ]
  },
  {
   "cell_type": "markdown",
   "metadata": {},
   "source": [
    "Generate the csv output"
   ]
  },
  {
   "cell_type": "code",
   "execution_count": 27,
   "metadata": {},
   "outputs": [],
   "source": [
    "unemployment2.to_csv(\"unemployment.csv\", sep=',')"
   ]
  }
 ],
 "metadata": {
  "interpreter": {
   "hash": "81f78be8e84c422d020e02bed99d970b4c01c3a614224aa9b2e56590be3a6b2a"
  },
  "kernelspec": {
   "display_name": "Python 3.9.7 ('ml')",
   "language": "python",
   "name": "python3"
  },
  "language_info": {
   "codemirror_mode": {
    "name": "ipython",
    "version": 3
   },
   "file_extension": ".py",
   "mimetype": "text/x-python",
   "name": "python",
   "nbconvert_exporter": "python",
   "pygments_lexer": "ipython3",
   "version": "3.9.7"
  },
  "orig_nbformat": 4
 },
 "nbformat": 4,
 "nbformat_minor": 2
}
