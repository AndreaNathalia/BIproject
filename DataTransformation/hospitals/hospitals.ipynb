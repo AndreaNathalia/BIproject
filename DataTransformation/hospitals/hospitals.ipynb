{
 "cells": [
  {
   "cell_type": "markdown",
   "metadata": {},
   "source": [
    "## Data Transformation: Table Hospitals"
   ]
  },
  {
   "cell_type": "markdown",
   "metadata": {},
   "source": [
    "### Datasets used:\n",
    "- Hospitals bed capacity by state and county\n",
    "- Hospital Charges in US"
   ]
  },
  {
   "cell_type": "code",
   "execution_count": 36,
   "metadata": {},
   "outputs": [],
   "source": [
    "import pandas as pd"
   ]
  },
  {
   "cell_type": "markdown",
   "metadata": {},
   "source": [
    "Load data to notebook"
   ]
  },
  {
   "cell_type": "code",
   "execution_count": 37,
   "metadata": {},
   "outputs": [],
   "source": [
    "#Load data with pandas\n",
    "bedCapacity = pd.read_csv(\"hospital_beds_USA.csv\")\n",
    "hospitalCharges = pd.read_csv(\"hospital-charges.csv\")"
   ]
  },
  {
   "cell_type": "markdown",
   "metadata": {},
   "source": [
    "Visualize data"
   ]
  },
  {
   "cell_type": "code",
   "execution_count": 38,
   "metadata": {},
   "outputs": [
    {
     "data": {
      "text/html": [
       "<div>\n",
       "<style scoped>\n",
       "    .dataframe tbody tr th:only-of-type {\n",
       "        vertical-align: middle;\n",
       "    }\n",
       "\n",
       "    .dataframe tbody tr th {\n",
       "        vertical-align: top;\n",
       "    }\n",
       "\n",
       "    .dataframe thead th {\n",
       "        text-align: right;\n",
       "    }\n",
       "</style>\n",
       "<table border=\"1\" class=\"dataframe\">\n",
       "  <thead>\n",
       "    <tr style=\"text-align: right;\">\n",
       "      <th></th>\n",
       "      <th>country</th>\n",
       "      <th>state</th>\n",
       "      <th>county</th>\n",
       "      <th>lat</th>\n",
       "      <th>lng</th>\n",
       "      <th>type</th>\n",
       "      <th>measure</th>\n",
       "      <th>beds</th>\n",
       "      <th>population</th>\n",
       "      <th>year</th>\n",
       "      <th>source</th>\n",
       "      <th>source_url</th>\n",
       "    </tr>\n",
       "  </thead>\n",
       "  <tbody>\n",
       "    <tr>\n",
       "      <th>0</th>\n",
       "      <td>US</td>\n",
       "      <td>AK</td>\n",
       "      <td>aleutians east</td>\n",
       "      <td>63.588753</td>\n",
       "      <td>-154.493062</td>\n",
       "      <td>ICU</td>\n",
       "      <td>1000HAB</td>\n",
       "      <td>0.0</td>\n",
       "      <td>3338</td>\n",
       "      <td>2019</td>\n",
       "      <td>khn</td>\n",
       "      <td>https://khn.org/news/as-coronavirus-spreads-wi...</td>\n",
       "    </tr>\n",
       "  </tbody>\n",
       "</table>\n",
       "</div>"
      ],
      "text/plain": [
       "  country state          county        lat         lng type  measure  beds  \\\n",
       "0      US    AK  aleutians east  63.588753 -154.493062  ICU  1000HAB   0.0   \n",
       "\n",
       "   population  year source                                         source_url  \n",
       "0        3338  2019    khn  https://khn.org/news/as-coronavirus-spreads-wi...  "
      ]
     },
     "execution_count": 38,
     "metadata": {},
     "output_type": "execute_result"
    }
   ],
   "source": [
    "bedCapacity.head(1)"
   ]
  },
  {
   "cell_type": "markdown",
   "metadata": {},
   "source": [
    "Cleaning data"
   ]
  },
  {
   "cell_type": "code",
   "execution_count": 39,
   "metadata": {},
   "outputs": [],
   "source": [
    "#Cleaning Bed Capacity dataFrame\n",
    "#Keeping data just for 2020\n",
    "bedCapacity = (bedCapacity[bedCapacity.year == 2019]).reset_index() # there's no info available for all states in 2020\n",
    "#Drop columns\n",
    "bedCapacity = bedCapacity.drop(labels=([\"country\", \"county\", \"lat\", \"lng\", \"measure\", \"source\", \"source_url\", \"index\", \"year\"]), axis=1)\n",
    "# group by state and type of bed\n",
    "bedCapacity = bedCapacity.groupby([\"state\"]).sum().reset_index()\n"
   ]
  },
  {
   "cell_type": "code",
   "execution_count": 40,
   "metadata": {},
   "outputs": [
    {
     "data": {
      "text/html": [
       "<div>\n",
       "<style scoped>\n",
       "    .dataframe tbody tr th:only-of-type {\n",
       "        vertical-align: middle;\n",
       "    }\n",
       "\n",
       "    .dataframe tbody tr th {\n",
       "        vertical-align: top;\n",
       "    }\n",
       "\n",
       "    .dataframe thead th {\n",
       "        text-align: right;\n",
       "    }\n",
       "</style>\n",
       "<table border=\"1\" class=\"dataframe\">\n",
       "  <thead>\n",
       "    <tr style=\"text-align: right;\">\n",
       "      <th></th>\n",
       "      <th>state</th>\n",
       "      <th>beds</th>\n",
       "      <th>population</th>\n",
       "    </tr>\n",
       "  </thead>\n",
       "  <tbody>\n",
       "    <tr>\n",
       "      <th>0</th>\n",
       "      <td>AK</td>\n",
       "      <td>4.789014</td>\n",
       "      <td>966872</td>\n",
       "    </tr>\n",
       "    <tr>\n",
       "      <th>1</th>\n",
       "      <td>AL</td>\n",
       "      <td>11.967593</td>\n",
       "      <td>4731663</td>\n",
       "    </tr>\n",
       "    <tr>\n",
       "      <th>2</th>\n",
       "      <td>AR</td>\n",
       "      <td>8.403947</td>\n",
       "      <td>2583665</td>\n",
       "    </tr>\n",
       "    <tr>\n",
       "      <th>3</th>\n",
       "      <td>AZ</td>\n",
       "      <td>2.050268</td>\n",
       "      <td>6630442</td>\n",
       "    </tr>\n",
       "    <tr>\n",
       "      <th>4</th>\n",
       "      <td>CA</td>\n",
       "      <td>8.182707</td>\n",
       "      <td>38982847</td>\n",
       "    </tr>\n",
       "  </tbody>\n",
       "</table>\n",
       "</div>"
      ],
      "text/plain": [
       "  state       beds  population\n",
       "0    AK   4.789014      966872\n",
       "1    AL  11.967593     4731663\n",
       "2    AR   8.403947     2583665\n",
       "3    AZ   2.050268     6630442\n",
       "4    CA   8.182707    38982847"
      ]
     },
     "execution_count": 40,
     "metadata": {},
     "output_type": "execute_result"
    }
   ],
   "source": [
    "bedCapacity.head()"
   ]
  },
  {
   "cell_type": "code",
   "execution_count": 41,
   "metadata": {},
   "outputs": [
    {
     "data": {
      "text/html": [
       "<div>\n",
       "<style scoped>\n",
       "    .dataframe tbody tr th:only-of-type {\n",
       "        vertical-align: middle;\n",
       "    }\n",
       "\n",
       "    .dataframe tbody tr th {\n",
       "        vertical-align: top;\n",
       "    }\n",
       "\n",
       "    .dataframe thead th {\n",
       "        text-align: right;\n",
       "    }\n",
       "</style>\n",
       "<table border=\"1\" class=\"dataframe\">\n",
       "  <thead>\n",
       "    <tr style=\"text-align: right;\">\n",
       "      <th></th>\n",
       "      <th>DRG Definition</th>\n",
       "      <th>Provider Id</th>\n",
       "      <th>Provider Name</th>\n",
       "      <th>Provider Street Address</th>\n",
       "      <th>Provider City</th>\n",
       "      <th>Provider State</th>\n",
       "      <th>Provider Zip Code</th>\n",
       "      <th>Hospital Referral Region Description</th>\n",
       "      <th>Total Discharges</th>\n",
       "      <th>Average Covered Charges</th>\n",
       "      <th>Average Total Payments</th>\n",
       "      <th>Average Medicare Payments</th>\n",
       "    </tr>\n",
       "  </thead>\n",
       "  <tbody>\n",
       "    <tr>\n",
       "      <th>0</th>\n",
       "      <td>039 - EXTRACRANIAL PROCEDURES W/O CC/MCC</td>\n",
       "      <td>10001</td>\n",
       "      <td>SOUTHEAST ALABAMA MEDICAL CENTER</td>\n",
       "      <td>1108 ROSS CLARK CIRCLE</td>\n",
       "      <td>DOTHAN</td>\n",
       "      <td>AL</td>\n",
       "      <td>36301</td>\n",
       "      <td>AL - Dothan</td>\n",
       "      <td>91</td>\n",
       "      <td>$32963.07</td>\n",
       "      <td>$5777.24</td>\n",
       "      <td>$4763.73</td>\n",
       "    </tr>\n",
       "  </tbody>\n",
       "</table>\n",
       "</div>"
      ],
      "text/plain": [
       "                             DRG Definition  Provider Id  \\\n",
       "0  039 - EXTRACRANIAL PROCEDURES W/O CC/MCC        10001   \n",
       "\n",
       "                      Provider Name Provider Street Address Provider City  \\\n",
       "0  SOUTHEAST ALABAMA MEDICAL CENTER  1108 ROSS CLARK CIRCLE        DOTHAN   \n",
       "\n",
       "  Provider State  Provider Zip Code Hospital Referral Region Description  \\\n",
       "0             AL              36301                          AL - Dothan   \n",
       "\n",
       "    Total Discharges   Average Covered Charges   Average Total Payments   \\\n",
       "0                  91                 $32963.07                 $5777.24   \n",
       "\n",
       "  Average Medicare Payments  \n",
       "0                  $4763.73  "
      ]
     },
     "execution_count": 41,
     "metadata": {},
     "output_type": "execute_result"
    }
   ],
   "source": [
    "hospitalCharges.head(1)"
   ]
  },
  {
   "cell_type": "code",
   "execution_count": 42,
   "metadata": {},
   "outputs": [],
   "source": [
    "#Cleaning Hospital Charges dataFrame\n",
    "\n",
    "#There's no year so we'll asume is data for 2020\n",
    "#Drop columns\n",
    "hospitalCharges = hospitalCharges.drop(labels=([\"DRG Definition\", \"Provider Id\", \"Provider Street Address\", \"Provider City\", \n",
    "                                        \"Provider Zip Code\", \"Hospital Referral Region Description\", \"Average Medicare Payments\", \n",
    "                                        \"Provider Name\"]), axis=1)\n",
    "#Rename columns\n",
    "hospitalCharges.columns = ['state', \"totalDischarges\", \"averageCoveredCharges\", \"averageTotalPayments\"]"
   ]
  },
  {
   "cell_type": "code",
   "execution_count": 43,
   "metadata": {},
   "outputs": [
    {
     "data": {
      "text/html": [
       "<div>\n",
       "<style scoped>\n",
       "    .dataframe tbody tr th:only-of-type {\n",
       "        vertical-align: middle;\n",
       "    }\n",
       "\n",
       "    .dataframe tbody tr th {\n",
       "        vertical-align: top;\n",
       "    }\n",
       "\n",
       "    .dataframe thead th {\n",
       "        text-align: right;\n",
       "    }\n",
       "</style>\n",
       "<table border=\"1\" class=\"dataframe\">\n",
       "  <thead>\n",
       "    <tr style=\"text-align: right;\">\n",
       "      <th></th>\n",
       "      <th>state</th>\n",
       "      <th>totalDischarges</th>\n",
       "      <th>averageCoveredCharges</th>\n",
       "      <th>averageTotalPayments</th>\n",
       "    </tr>\n",
       "  </thead>\n",
       "  <tbody>\n",
       "    <tr>\n",
       "      <th>0</th>\n",
       "      <td>AL</td>\n",
       "      <td>91</td>\n",
       "      <td>$32963.07</td>\n",
       "      <td>$5777.24</td>\n",
       "    </tr>\n",
       "    <tr>\n",
       "      <th>1</th>\n",
       "      <td>AL</td>\n",
       "      <td>14</td>\n",
       "      <td>$15131.85</td>\n",
       "      <td>$5787.57</td>\n",
       "    </tr>\n",
       "    <tr>\n",
       "      <th>2</th>\n",
       "      <td>AL</td>\n",
       "      <td>24</td>\n",
       "      <td>$37560.37</td>\n",
       "      <td>$5434.95</td>\n",
       "    </tr>\n",
       "    <tr>\n",
       "      <th>3</th>\n",
       "      <td>AL</td>\n",
       "      <td>25</td>\n",
       "      <td>$13998.28</td>\n",
       "      <td>$5417.56</td>\n",
       "    </tr>\n",
       "    <tr>\n",
       "      <th>4</th>\n",
       "      <td>AL</td>\n",
       "      <td>18</td>\n",
       "      <td>$31633.27</td>\n",
       "      <td>$5658.33</td>\n",
       "    </tr>\n",
       "  </tbody>\n",
       "</table>\n",
       "</div>"
      ],
      "text/plain": [
       "  state  totalDischarges averageCoveredCharges averageTotalPayments\n",
       "0    AL               91             $32963.07             $5777.24\n",
       "1    AL               14             $15131.85             $5787.57\n",
       "2    AL               24             $37560.37             $5434.95\n",
       "3    AL               25             $13998.28             $5417.56\n",
       "4    AL               18             $31633.27             $5658.33"
      ]
     },
     "execution_count": 43,
     "metadata": {},
     "output_type": "execute_result"
    }
   ],
   "source": [
    "hospitalCharges.head()"
   ]
  },
  {
   "cell_type": "code",
   "execution_count": 44,
   "metadata": {},
   "outputs": [
    {
     "name": "stderr",
     "output_type": "stream",
     "text": [
      "/var/folders/8h/nd9bcmz12yndbs6hsp0s9w8r0000gn/T/ipykernel_16146/3456981773.py:1: FutureWarning: The default value of regex will change from True to False in a future version. In addition, single character regular expressions will *not* be treated as literal strings when regex=True.\n",
      "  hospitalCharges[\"averageCoveredCharges\"] = hospitalCharges[\"averageCoveredCharges\"].str.replace(\"$\",\"\").astype(\"float\")\n",
      "/var/folders/8h/nd9bcmz12yndbs6hsp0s9w8r0000gn/T/ipykernel_16146/3456981773.py:2: FutureWarning: The default value of regex will change from True to False in a future version. In addition, single character regular expressions will *not* be treated as literal strings when regex=True.\n",
      "  hospitalCharges[\"averageTotalPayments\"] = hospitalCharges[\"averageTotalPayments\"].str.replace(\"$\",\"\").astype(\"float\")\n"
     ]
    }
   ],
   "source": [
    "hospitalCharges[\"averageCoveredCharges\"] = hospitalCharges[\"averageCoveredCharges\"].str.replace(\"$\",\"\").astype(\"float\")\n",
    "hospitalCharges[\"averageTotalPayments\"] = hospitalCharges[\"averageTotalPayments\"].str.replace(\"$\",\"\").astype(\"float\")\n",
    "hospitalCharges = hospitalCharges.groupby(\"state\").mean().reset_index()"
   ]
  },
  {
   "cell_type": "markdown",
   "metadata": {},
   "source": [
    "Merge to get the final table"
   ]
  },
  {
   "cell_type": "code",
   "execution_count": 45,
   "metadata": {},
   "outputs": [],
   "source": [
    "hospitals = bedCapacity.join(hospitalCharges.set_index(\"state\"), on=\"state\")\n",
    "# hospitals.to_csv(\"hospitals.csv\", sep=',') # generate csv"
   ]
  },
  {
   "cell_type": "code",
   "execution_count": 47,
   "metadata": {},
   "outputs": [
    {
     "data": {
      "text/html": [
       "<div>\n",
       "<style scoped>\n",
       "    .dataframe tbody tr th:only-of-type {\n",
       "        vertical-align: middle;\n",
       "    }\n",
       "\n",
       "    .dataframe tbody tr th {\n",
       "        vertical-align: top;\n",
       "    }\n",
       "\n",
       "    .dataframe thead th {\n",
       "        text-align: right;\n",
       "    }\n",
       "</style>\n",
       "<table border=\"1\" class=\"dataframe\">\n",
       "  <thead>\n",
       "    <tr style=\"text-align: right;\">\n",
       "      <th></th>\n",
       "      <th>state</th>\n",
       "      <th>beds</th>\n",
       "      <th>population</th>\n",
       "      <th>totalDischarges</th>\n",
       "      <th>averageCoveredCharges</th>\n",
       "      <th>averageTotalPayments</th>\n",
       "    </tr>\n",
       "  </thead>\n",
       "  <tbody>\n",
       "    <tr>\n",
       "      <th>0</th>\n",
       "      <td>AK</td>\n",
       "      <td>4.789014</td>\n",
       "      <td>966872</td>\n",
       "      <td>26.588745</td>\n",
       "      <td>40348.743333</td>\n",
       "      <td>14572.391732</td>\n",
       "    </tr>\n",
       "    <tr>\n",
       "      <th>1</th>\n",
       "      <td>AL</td>\n",
       "      <td>11.967593</td>\n",
       "      <td>4731663</td>\n",
       "      <td>39.258322</td>\n",
       "      <td>31316.462074</td>\n",
       "      <td>7568.232149</td>\n",
       "    </tr>\n",
       "    <tr>\n",
       "      <th>2</th>\n",
       "      <td>AR</td>\n",
       "      <td>8.403947</td>\n",
       "      <td>2583665</td>\n",
       "      <td>41.978229</td>\n",
       "      <td>26174.526246</td>\n",
       "      <td>8019.248805</td>\n",
       "    </tr>\n",
       "    <tr>\n",
       "      <th>3</th>\n",
       "      <td>AZ</td>\n",
       "      <td>2.050268</td>\n",
       "      <td>6630442</td>\n",
       "      <td>36.690284</td>\n",
       "      <td>41200.063020</td>\n",
       "      <td>10154.528211</td>\n",
       "    </tr>\n",
       "    <tr>\n",
       "      <th>4</th>\n",
       "      <td>CA</td>\n",
       "      <td>8.182707</td>\n",
       "      <td>38982847</td>\n",
       "      <td>36.357854</td>\n",
       "      <td>67508.616536</td>\n",
       "      <td>12629.668472</td>\n",
       "    </tr>\n",
       "  </tbody>\n",
       "</table>\n",
       "</div>"
      ],
      "text/plain": [
       "  state       beds  population  totalDischarges  averageCoveredCharges  \\\n",
       "0    AK   4.789014      966872        26.588745           40348.743333   \n",
       "1    AL  11.967593     4731663        39.258322           31316.462074   \n",
       "2    AR   8.403947     2583665        41.978229           26174.526246   \n",
       "3    AZ   2.050268     6630442        36.690284           41200.063020   \n",
       "4    CA   8.182707    38982847        36.357854           67508.616536   \n",
       "\n",
       "   averageTotalPayments  \n",
       "0          14572.391732  \n",
       "1           7568.232149  \n",
       "2           8019.248805  \n",
       "3          10154.528211  \n",
       "4          12629.668472  "
      ]
     },
     "execution_count": 47,
     "metadata": {},
     "output_type": "execute_result"
    }
   ],
   "source": [
    "hospitals.head()"
   ]
  },
  {
   "cell_type": "markdown",
   "metadata": {},
   "source": [
    "Generate csv output"
   ]
  },
  {
   "cell_type": "code",
   "execution_count": 48,
   "metadata": {},
   "outputs": [],
   "source": [
    "hospitals.to_csv(\"hospitals.csv\", sep=',')"
   ]
  }
 ],
 "metadata": {
  "interpreter": {
   "hash": "81f78be8e84c422d020e02bed99d970b4c01c3a614224aa9b2e56590be3a6b2a"
  },
  "kernelspec": {
   "display_name": "Python 3.9.7 ('ml')",
   "language": "python",
   "name": "python3"
  },
  "language_info": {
   "codemirror_mode": {
    "name": "ipython",
    "version": 3
   },
   "file_extension": ".py",
   "mimetype": "text/x-python",
   "name": "python",
   "nbconvert_exporter": "python",
   "pygments_lexer": "ipython3",
   "version": "3.9.7"
  },
  "orig_nbformat": 4
 },
 "nbformat": 4,
 "nbformat_minor": 2
}
